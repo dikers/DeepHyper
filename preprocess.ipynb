{
 "cells": [
  {
   "cell_type": "code",
   "execution_count": 1,
   "metadata": {},
   "outputs": [],
   "source": [
    "import numpy as np\n",
    "import os\n",
    "import scipy.io\n",
    "import spectral.io.envi as envi"
   ]
  },
  {
   "cell_type": "code",
   "execution_count": 3,
   "metadata": {},
   "outputs": [],
   "source": [
    "DATASET_NAME = 'leaf'\n",
    "NEW_DATA_PATH = os.path.join(os.getcwd(), DATASET_NAME)  # 存放数据路径 patch是文件夹名称\n"
   ]
  },
  {
   "cell_type": "code",
   "execution_count": 20,
   "metadata": {},
   "outputs": [],
   "source": [
    "def loadData(flieName, dataIndex, temp_split=2):\n",
    "    \n",
    "    print(\"------------  loadData  \", dataIndex)\n",
    "    # 原始数据路径\n",
    "    DATA_PATH = os.path.join(os.getcwd(), flieName)\n",
    "\n",
    "    index = str(dataIndex)\n",
    "    data = envi.open( os.path.join(DATA_PATH, \"{}.hdr\".format(index)) ,os.path.join(DATA_PATH, \"{}.dat\".format(index)))\n",
    "    mask_data = envi.open( os.path.join(DATA_PATH, \"mask_{}.hdr\".format(index)) ,os.path.join(DATA_PATH, \"mask_{}.tiff\".format(index)))\n",
    "\n",
    "    HEIGHT = data.shape[0] //temp_split\n",
    "    WIDTH = data.shape[1] //temp_split\n",
    "    BAND = data.shape[2] \n",
    "#     BAND = BAND_SIZE\n",
    "    new_shape=(BAND,HEIGHT,WIDTH)\n",
    "    new_data = np.zeros(new_shape, dtype = float)\n",
    "    label = np.zeros((HEIGHT, WIDTH), dtype = int)\n",
    "    \n",
    "\n",
    "    sample_count = 0\n",
    "    for h in range(HEIGHT): \n",
    "        for w in range(WIDTH):\n",
    "            x = h*temp_split\n",
    "            y = w*temp_split\n",
    "            for b in range(BAND):\n",
    "                new_data[b][h][w] = data[x,y][b]\n",
    "\n",
    "            if(sum(mask_data[x, y])  > 0.01 ):\n",
    "                label[h][w] = dataIndex \n",
    "                sample_count += 1\n",
    "            else:\n",
    "                label[h][w] = 0\n",
    "    \n",
    "    \n",
    "    new_data = np.transpose(new_data, (1, 2, 0))  # 将通道数提前，便于数组处理操作\n",
    "    print(\"sample_count = {} \".format(sample_count))\n",
    "    print(\"data shape : \", new_data.shape)\n",
    "    print(\"label shape : \", label.shape)\n",
    "    return new_data, label"
   ]
  },
  {
   "cell_type": "code",
   "execution_count": 21,
   "metadata": {},
   "outputs": [
    {
     "name": "stdout",
     "output_type": "stream",
     "text": [
      "------------  loadData   1\n",
      "sample_count = 21324 \n",
      "data shape :  (256, 256, 204)\n",
      "label shape :  (256, 256)\n",
      "------------  loadData   2\n",
      "sample_count = 18157 \n",
      "data shape :  (256, 256, 204)\n",
      "label shape :  (256, 256)\n",
      "------------  loadData   3\n",
      "sample_count = 20040 \n",
      "data shape :  (256, 256, 204)\n",
      "label shape :  (256, 256)\n",
      "------------  loadData   4\n",
      "sample_count = 20350 \n",
      "data shape :  (256, 256, 204)\n",
      "label shape :  (256, 256)\n",
      "CPU times: user 9min 35s, sys: 760 ms, total: 9min 36s\n",
      "Wall time: 9min 35s\n"
     ]
    }
   ],
   "source": [
    "%%time\n",
    "data1, label1 = loadData(\"dataset\", 1)\n",
    "data2, label2 = loadData(\"dataset\", 2)\n",
    "data3, label3 = loadData(\"dataset\", 3)\n",
    "data4, label4 = loadData(\"dataset\", 4)"
   ]
  },
  {
   "cell_type": "code",
   "execution_count": 22,
   "metadata": {},
   "outputs": [],
   "source": [
    "X1 = np.hstack((data1, data2))\n",
    "X2 = np.hstack((data3, data4))\n",
    "\n",
    "gt1 = np.hstack((label1, label2))\n",
    "gt2 = np.hstack((label3, label4))\n",
    "\n",
    "X = np.vstack((X1, X2))\n",
    "\n",
    "gt = np.vstack((gt1, gt2))"
   ]
  },
  {
   "cell_type": "code",
   "execution_count": 23,
   "metadata": {},
   "outputs": [],
   "source": [
    "\n",
    "if not os.path.exists(NEW_DATA_PATH):\n",
    "    os.mkdir(NEW_DATA_PATH)"
   ]
  },
  {
   "cell_type": "code",
   "execution_count": 24,
   "metadata": {},
   "outputs": [
    {
     "name": "stdout",
     "output_type": "stream",
     "text": [
      "Save target data\n",
      "\n"
     ]
    }
   ],
   "source": [
    "train_dict, test_dict = {}, {}\n",
    "train_dict[DATASET_NAME] = X\n",
    "file_name = \"{}.mat\".format(DATASET_NAME) \n",
    "scipy.io.savemat(os.path.join(NEW_DATA_PATH, file_name), train_dict)\n",
    "test_dict[\"{}_gt\".format(DATASET_NAME)] = gt\n",
    "file_name = \"{}_gt.mat\".format(DATASET_NAME)\n",
    "scipy.io.savemat(os.path.join(NEW_DATA_PATH, file_name), test_dict)\n",
    "print(\"Save target data\\n\")"
   ]
  },
  {
   "cell_type": "code",
   "execution_count": 25,
   "metadata": {},
   "outputs": [],
   "source": [
    "data_path = os.path.join(os.getcwd(), DATASET_NAME)\n",
    "data = scipy.io.loadmat(os.path.join(data_path, '{}.mat'.format(DATASET_NAME)))[DATASET_NAME]\n",
    "labels = scipy.io.loadmat(os.path.join(data_path, '{}_gt.mat'.format(DATASET_NAME)))['{}_gt'.format(DATASET_NAME)]"
   ]
  },
  {
   "cell_type": "code",
   "execution_count": 26,
   "metadata": {},
   "outputs": [
    {
     "data": {
      "text/plain": [
       "(512, 512, 204)"
      ]
     },
     "execution_count": 26,
     "metadata": {},
     "output_type": "execute_result"
    }
   ],
   "source": [
    "data.shape"
   ]
  },
  {
   "cell_type": "code",
   "execution_count": 27,
   "metadata": {},
   "outputs": [
    {
     "data": {
      "text/plain": [
       "(512, 512)"
      ]
     },
     "execution_count": 27,
     "metadata": {},
     "output_type": "execute_result"
    }
   ],
   "source": [
    "labels.shape"
   ]
  },
  {
   "cell_type": "code",
   "execution_count": null,
   "metadata": {},
   "outputs": [],
   "source": []
  }
 ],
 "metadata": {
  "kernelspec": {
   "display_name": "nlp",
   "language": "python",
   "name": "nlp"
  },
  "language_info": {
   "codemirror_mode": {
    "name": "ipython",
    "version": 3
   },
   "file_extension": ".py",
   "mimetype": "text/x-python",
   "name": "python",
   "nbconvert_exporter": "python",
   "pygments_lexer": "ipython3",
   "version": "3.7.9"
  }
 },
 "nbformat": 4,
 "nbformat_minor": 4
}
